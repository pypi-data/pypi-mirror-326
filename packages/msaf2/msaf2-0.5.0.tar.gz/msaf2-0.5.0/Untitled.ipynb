{
 "cells": [
  {
   "cell_type": "code",
   "execution_count": 7,
   "id": "dccec11f-f56f-4d48-8eb3-aea74fd7f0d9",
   "metadata": {},
   "outputs": [],
   "source": [
    "from glob import glob\n",
    "import os\n",
    "\n",
    "def f_ext(fpath):\n",
    "    _, file_ext = os.path.splitext(fpath)\n",
    "    return file_ext.replace('.', '')"
   ]
  },
  {
   "cell_type": "code",
   "execution_count": 12,
   "id": "e54952d5-4b3e-44db-807d-d401dfbf27c2",
   "metadata": {},
   "outputs": [
    {
     "data": {
      "text/plain": [
       "['./msas/paf.a3m', './msas/pif.a3m']"
      ]
     },
     "execution_count": 12,
     "metadata": {},
     "output_type": "execute_result"
    }
   ],
   "source": [
    "patt = './msas/**/*.a3m'\n",
    "\n",
    "glob(patt, recursive=True)"
   ]
  },
  {
   "cell_type": "code",
   "execution_count": 9,
   "id": "a6c73517-7aa1-442f-8447-6b95ebab58fc",
   "metadata": {},
   "outputs": [
    {
     "data": {
      "text/plain": [
       "''"
      ]
     },
     "execution_count": 9,
     "metadata": {},
     "output_type": "execute_result"
    }
   ],
   "source": [
    "patt = './**/*.a3m'\n",
    "f_ext(patt)"
   ]
  },
  {
   "cell_type": "code",
   "execution_count": 13,
   "id": "932dd5b9-95ea-403d-8c39-ee1660ea5351",
   "metadata": {},
   "outputs": [
    {
     "data": {
      "text/plain": [
       "'aa'"
      ]
     },
     "execution_count": 13,
     "metadata": {},
     "output_type": "execute_result"
    }
   ],
   "source": [
    "'__aa'.replace(\"_\", \"\")"
   ]
  },
  {
   "cell_type": "code",
   "execution_count": null,
   "id": "7500e5d9-2cf0-44b7-803f-44b78dd2ac24",
   "metadata": {},
   "outputs": [],
   "source": []
  }
 ],
 "metadata": {
  "kernelspec": {
   "display_name": "Python 3 (ipykernel)",
   "language": "python",
   "name": "python3"
  },
  "language_info": {
   "codemirror_mode": {
    "name": "ipython",
    "version": 3
   },
   "file_extension": ".py",
   "mimetype": "text/x-python",
   "name": "python",
   "nbconvert_exporter": "python",
   "pygments_lexer": "ipython3",
   "version": "3.12.4"
  }
 },
 "nbformat": 4,
 "nbformat_minor": 5
}
