{
 "cells": [
  {
   "cell_type": "markdown",
   "metadata": {},
   "source": [
    "# PHI Anonymizer\n",
    "\n",
    "Why? Because sending PHI to any remote LLM service provider is a bad idea.\n",
    "\n",
    "```bash\n",
    "pip install phianonymizer\n",
    "```"
   ]
  },
  {
   "cell_type": "code",
   "execution_count": 1,
   "metadata": {},
   "outputs": [
    {
     "name": "stdout",
     "output_type": "stream",
     "text": [
      "Output: [\n",
      "  {\n",
      "    \"phi\": \"Bobby Smith\",\n",
      "    \"category\": \"first_name\",\n",
      "    \"replacement\": \"John\"\n",
      "  },\n",
      "  {\n",
      "    \"phi\": \"01/04/1970\",\n",
      "    \"category\": \"date\",\n",
      "    \"replacement\": \"6/26/1951\"\n",
      "  },\n",
      "  {\n",
      "    \"phi\": \"New York City\",\n",
      "    \"category\": \"location\",\n",
      "    \"replacement\": \"Los Angeles, California\"\n",
      "  },\n",
      "  {\n",
      "    \"phi\": \"626-433-7890\",\n",
      "    \"category\": \"phone_number\",\n",
      "    \"replacement\": \"536-656-0943\"\n",
      "  },\n",
      "  {\n",
      "    \"phi\": \"bobby.smith@gmail.com\",\n",
      "    \"category\": \"email\",\n",
      "    \"replacement\": \"john.smith@gmail.com\"\n",
      "  },\n",
      "  {\n",
      "    \"phi\": \"213-45-6919\",\n",
      "    \"category\": \"social_security_number\",\n",
      "    \"replacement\": \"123-45-6919\"\n",
      "  },\n",
      "  {\n",
      "    \"phi\": \"123-45-6919\",\n",
      "    \"category\": \"phone_number\",\n",
      "    \"replacement\": \"587-730-1945\"\n",
      "  },\n",
      "  {\n",
      "    \"phi\": \"Los Angeles, California\",\n",
      "    \"category\": \"location\",\n",
      "    \"replacement\": \"Seattle, Washington\"\n",
      "  }\n",
      "]\n",
      "Original text from the user:\n",
      "Hi! My name is Bobby Smith, I was born on 01/04/1970 in New York City. My phone number is 626-433-7890 and my email is bobby.smith@gmail.com. You probably need my social security number too, it's 213-45-6919. So what have you learned about me?\n",
      "\n",
      "Safe text sent to the external LLM:\n",
      "Hi! My name is John, I was born on 6/26/1951 in Los Angeles, California. My phone number is 536-656-0943 and my email is john.smith@gmail.com. You probably need my social security number too, it's 587-730-1945. So what have you learned about me?\n",
      "\n"
     ]
    }
   ],
   "source": [
    "from phianonymizer import anonymize_text, deanonymize_text\n",
    "\n",
    "original_text = \"Hi! My name is Bobby Smith, I was born on 01/04/1970 in New York City. My phone number is 626-433-7890 and my email is bobby.smith@gmail.com. You probably need my social security number too, it's 213-45-6919. So what have you learned about me?\"\n",
    "safe_response, mapper = anonymize_text(original_text)\n",
    "print(f\"Original text from the user:\\n{original_text}\\n\")\n",
    "print(f\"Safe text sent to the external LLM:\\n{safe_response}\\n\")"
   ]
  },
  {
   "cell_type": "code",
   "execution_count": 2,
   "metadata": {},
   "outputs": [
    {
     "name": "stdout",
     "output_type": "stream",
     "text": [
      "LLM response:\n",
      "Hello John! Thank you for sharing your information with me. It's always a pleasure to learn about people. Here are a few things I've learned from you:\n",
      "\n",
      "1. You were born on June 26, 1951, in Los Angeles, California. This makes you a bit older than most people, but not by much.\n",
      "\n",
      "2. You have a phone number: 536-656-0943. This is a personal number, so you can call me when you need help or have a question.\n",
      "\n",
      "3. You have an email: john.smith@gmail.com. This is a work email, so you can send me messages or share documents with me.\n",
      "\n",
      "4. You have a social security number: 587-730-1945. This is a personal number, so you can call me when you need help or have a question.\n",
      "\n",
      "I hope this helps you learn more about yourself! If you have any other questions, feel free to ask.\n",
      "\n",
      "Declassified response:\n",
      "Hello Bobby Smith! Thank you for sharing your information with me. It's always a pleasure to learn about people. Here are a few things I've learned from you:\n",
      "\n",
      "1. You were born on June 26, 1951, in New York City. This makes you a bit older than most people, but not by much.\n",
      "\n",
      "2. You have a phone number: 626-433-7890. This is a personal number, so you can call me when you need help or have a question.\n",
      "\n",
      "3. You have an email: bobby.smith@gmail.com. This is a work email, so you can send me messages or share documents with me.\n",
      "\n",
      "4. You have a social security number: 213-45-6919. This is a personal number, so you can call me when you need help or have a question.\n",
      "\n",
      "I hope this helps you learn more about yourself! If you have any other questions, feel free to ask.\n"
     ]
    }
   ],
   "source": [
    "# Now lets send it to an external LLM that is probably not trustworthy (we'll still use the local one, but pretend it is going to OpenAI, DeepSeek, Google, etc.)\n",
    "response = mapper.llm.create_chat_completion(\n",
    "    messages=[\n",
    "        {\n",
    "            \"role\": \"system\",\n",
    "            \"content\": \"The assistant is an expert as assisting the user and is getting to know them better. The assistant is very friendly and helpful.\",\n",
    "        },\n",
    "        {\n",
    "            \"role\": \"user\",\n",
    "            \"content\": f\"{safe_response}\",\n",
    "        },\n",
    "    ],\n",
    "    temperature=0.4,\n",
    "    max_tokens=2048,\n",
    ")\n",
    "\n",
    "llm_response = response[\"choices\"][0][\"message\"][\"content\"]\n",
    "print(f\"LLM response:\\n{llm_response}\\n\")\n",
    "declassified_text = deanonymize_text(llm_response, mapper)\n",
    "print(f\"Declassified response:\\n{declassified_text}\")"
   ]
  }
 ],
 "metadata": {
  "kernelspec": {
   "display_name": "Python 3",
   "language": "python",
   "name": "python3"
  },
  "language_info": {
   "codemirror_mode": {
    "name": "ipython",
    "version": 3
   },
   "file_extension": ".py",
   "mimetype": "text/x-python",
   "name": "python",
   "nbconvert_exporter": "python",
   "pygments_lexer": "ipython3",
   "version": "3.10.16"
  }
 },
 "nbformat": 4,
 "nbformat_minor": 2
}
