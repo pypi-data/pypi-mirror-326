{
 "cells": [
  {
   "cell_type": "code",
   "execution_count": 8,
   "id": "7a91c9e4-77f5-4792-a492-44b5ca1e99c7",
   "metadata": {},
   "outputs": [],
   "source": [
    "import os\n",
    "import itertools\n",
    "import numpy as np\n",
    "from multicorner import multivariate_corner \n",
    "import matplotlib\n",
    "matplotlib.use('agg')\n",
    "import random\n",
    "import matplotlib.pyplot as plt"
   ]
  },
  {
   "cell_type": "code",
   "execution_count": 2,
   "id": "30ef794c-eba5-4ba7-a6de-663210d88e9a",
   "metadata": {},
   "outputs": [],
   "source": [
    "data = np.load('data.npz')\n",
    "samples1 = data['dataset']\n",
    "labels = data['labels']\n",
    "n_clusters = data['n']\n",
    "indices = data['inds']"
   ]
  },
  {
   "cell_type": "code",
   "execution_count": 3,
   "id": "498f3301-787b-4ad4-8eeb-8b0491b40b73",
   "metadata": {},
   "outputs": [],
   "source": [
    "samples2 = [samples1[labels == i] for i in range(n_clusters)] #manually clustered"
   ]
  },
  {
   "cell_type": "code",
   "execution_count": 4,
   "id": "785b0c79-f103-4be9-9b39-f9783ab7df48",
   "metadata": {},
   "outputs": [],
   "source": [
    "# Parameter options\n",
    "autocluster_options = [True, False]\n",
    "confidence_ellipse_options = [True, False]\n",
    "nsigma_options_autocluster_true = [1, [1, 2, 3, 4, 5]]\n",
    "nsigma_options_autocluster_false = [1, [1, 2, 3, 4, 5, 6, 7, 8, 9]]\n",
    "truths_options = [None, [1, 2, 3]]\n",
    "upper_title_options = [None, lambda i, j: f\"Orientation Plots ({i},{j})\"]\n",
    "diag_title_options = [None, lambda i, j, ii, jj: f\"Scatter Plots ({i},{j}) {ii},{jj}\"]\n",
    "lower_title_options = [None, lambda i, j, ii, jj: f\"Histograms ({i},{j}) {ii},{jj}\"]\n",
    "percentile_bounds_options = [[16, 84], [2.5, 97.5]]\n",
    "percentiles_options = [True, False]\n",
    "labels_options = [None, ['x', 'y', 'z']]\n",
    "parameter_combinations = list(itertools.product(\n",
    "    autocluster_options, confidence_ellipse_options, truths_options,\n",
    "    upper_title_options, diag_title_options, lower_title_options,\n",
    "    percentile_bounds_options, percentiles_options, labels_options))"
   ]
  },
  {
   "cell_type": "code",
   "execution_count": 5,
   "id": "e81f2b5e-3308-4b08-a7e3-5c2fdadd856e",
   "metadata": {},
   "outputs": [
    {
     "name": "stdout",
     "output_type": "stream",
     "text": [
      "512\n"
     ]
    }
   ],
   "source": [
    "print(len(parameter_combinations))"
   ]
  },
  {
   "cell_type": "code",
   "execution_count": null,
   "id": "86321d7a-42f8-4360-9a87-36269a8b0349",
   "metadata": {},
   "outputs": [],
   "source": []
  },
  {
   "cell_type": "code",
   "execution_count": 6,
   "id": "191607eb-8b4d-41f8-8c5b-0c62c8bbd505",
   "metadata": {},
   "outputs": [],
   "source": [
    "path= './stress_test1/'\n",
    "try:\n",
    "    os.makedirs(path)\n",
    "except FileExistsError:\n",
    "    pass"
   ]
  },
  {
   "cell_type": "code",
   "execution_count": null,
   "id": "17f1415c-6865-4b5e-94b4-17b754deebfd",
   "metadata": {},
   "outputs": [],
   "source": [
    "# Loop over only the pre-selected indices\n",
    "for index in indices:\n",
    "    autocluster, confidence_ellipse, truths, upper_title, diag_title, lower_title, percentile_bounds, percentiles, labels = parameter_combinations[index]\n",
    "    \n",
    "    # Determine which sample set to use\n",
    "    samples = samples1 if autocluster else samples2\n",
    "    nsigma_options = nsigma_options_autocluster_true if autocluster else nsigma_options_autocluster_false\n",
    "    \n",
    "    for nsigma in nsigma_options:\n",
    "        # Call the function\n",
    "        fig = multivariate_corner(\n",
    "            samples=samples,\n",
    "            autocluster=autocluster,\n",
    "            confidence_ellipse=confidence_ellipse,\n",
    "            nsigma=nsigma,\n",
    "            truths=truths,\n",
    "            upper_title=upper_title,\n",
    "            diag_title=diag_title,\n",
    "            lower_title=lower_title,\n",
    "            percentile_bounds=percentile_bounds,\n",
    "            percentiles=percentiles,\n",
    "            verbose=False,\n",
    "            labels=labels,\n",
    "            fontsize=random.choice([6,12]),\n",
    "            labelsize=random.choice([6,12]),\n",
    "            outer_wspace=0.2,\n",
    "            outer_hspace=0.2,\n",
    "            inner_wspace=0.2,\n",
    "            inner_hspace=0.1\n",
    "        )\n",
    "\n",
    "        # Save the figure with an indexed filename\n",
    "        fig.savefig(path + f\"test_plot_{index + 1}.png\")\n",
    "        plt.close(fig)\n"
   ]
  },
  {
   "cell_type": "code",
   "execution_count": null,
   "id": "389f62bc-20da-4400-874e-288ae2951cb2",
   "metadata": {},
   "outputs": [],
   "source": [
    "# for index, (autocluster, confidence_ellipse, truths, upper_title, diag_title, lower_title, percentile_bounds, percentiles, labels) in enumerate(tqdm(parameter_combinations, desc=\"Processing combinations\")):\n",
    "#     # Determine which sample set to use\n",
    "#     samples = samples1 if autocluster else samples2\n",
    "#     nsigma_options = nsigma_options_autocluster_true if autocluster else nsigma_options_autocluster_false\n",
    "#     for nsigma in nsigma_options:\n",
    "#         # Call the function\n",
    "#         fig = multivariate_corner(\n",
    "#             samples=samples,\n",
    "#             autocluster=autocluster,\n",
    "#             confidence_ellipse=confidence_ellipse,\n",
    "#             nsigma=nsigma,\n",
    "#             truths=truths,\n",
    "#             upper_title=upper_title,\n",
    "#             diag_title=diag_title,\n",
    "#             lower_title=lower_title,\n",
    "#             percentile_bounds=percentile_bounds,\n",
    "#             percentiles=percentiles,\n",
    "#             verbose=False,\n",
    "#             labels=labels,\n",
    "#             fontsize=np.random.choice([6,12]),\n",
    "#             labelsize=np.random.choice([6,12]),\n",
    "#             outer_wspace=0.2,\n",
    "#             outer_hspace=0.2,\n",
    "#             inner_wspace=0.2,\n",
    "#             inner_hspace=0.1\n",
    "#         )\n",
    "\n",
    "#         # Save the figure with an indexed filename\n",
    "#         fig.savefig(path + f\"test_plot_{index + 1}.png\")\n",
    "#         plt.close(fig)"
   ]
  },
  {
   "cell_type": "code",
   "execution_count": null,
   "id": "544a5852-a3a0-47d1-ac31-63e496446e67",
   "metadata": {},
   "outputs": [],
   "source": []
  },
  {
   "cell_type": "code",
   "execution_count": null,
   "id": "79561dcd-faf4-4aa8-976c-200dabf542d7",
   "metadata": {},
   "outputs": [],
   "source": []
  },
  {
   "cell_type": "code",
   "execution_count": null,
   "id": "c423cc7a-1bd0-4744-a9f9-d3b35fcdc222",
   "metadata": {},
   "outputs": [],
   "source": []
  },
  {
   "cell_type": "code",
   "execution_count": null,
   "id": "204a85f5-f362-401b-963f-f10f8e5b7f59",
   "metadata": {},
   "outputs": [],
   "source": []
  }
 ],
 "metadata": {
  "kernelspec": {
   "display_name": "Python 3 (ipykernel)",
   "language": "python",
   "name": "python3"
  },
  "language_info": {
   "codemirror_mode": {
    "name": "ipython",
    "version": 3
   },
   "file_extension": ".py",
   "mimetype": "text/x-python",
   "name": "python",
   "nbconvert_exporter": "python",
   "pygments_lexer": "ipython3",
   "version": "3.10.12"
  }
 },
 "nbformat": 4,
 "nbformat_minor": 5
}
