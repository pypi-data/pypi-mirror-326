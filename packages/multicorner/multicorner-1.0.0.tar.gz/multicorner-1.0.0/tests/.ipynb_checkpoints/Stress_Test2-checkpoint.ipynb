{
 "cells": [
  {
   "cell_type": "code",
   "execution_count": 1,
   "id": "7a91c9e4-77f5-4792-a492-44b5ca1e99c7",
   "metadata": {},
   "outputs": [],
   "source": [
    "import os\n",
    "import itertools\n",
    "import numpy as np\n",
    "from sklearn.cluster import KMeans\n",
    "from multicorner import multivariate_corner \n",
    "\n",
    "from tqdm import tqdm\n",
    "import matplotlib\n",
    "import matplotlib.pyplot as plt\n",
    "matplotlib.use('agg')"
   ]
  },
  {
   "cell_type": "code",
   "execution_count": 2,
   "id": "30ef794c-eba5-4ba7-a6de-663210d88e9a",
   "metadata": {},
   "outputs": [],
   "source": [
    "samples1 = np.load('massively_multimodal_samples.npy')"
   ]
  },
  {
   "cell_type": "code",
   "execution_count": 3,
   "id": "498f3301-787b-4ad4-8eeb-8b0491b40b73",
   "metadata": {},
   "outputs": [],
   "source": [
    "n_clusters = 9 # Choose the desired number of clusters\n",
    "kmeans = KMeans(n_clusters=n_clusters, random_state=42)\n",
    "kmeans.fit(samples1)\n",
    "labels = kmeans.labels_ # Get cluster labels\n",
    "samples2 = [samples1[labels == i] for i in range(n_clusters)] #manually clustered"
   ]
  },
  {
   "cell_type": "code",
   "execution_count": 4,
   "id": "785b0c79-f103-4be9-9b39-f9783ab7df48",
   "metadata": {},
   "outputs": [],
   "source": [
    "# Parameter options\n",
    "autocluster_options = [True, False]\n",
    "confidence_ellipse_options = [True, False]\n",
    "nsigma_options = [1,3]\n",
    "parameter_combinations = list(itertools.product(autocluster_options, confidence_ellipse_options, nsigma_options))"
   ]
  },
  {
   "cell_type": "code",
   "execution_count": null,
   "id": "e81f2b5e-3308-4b08-a7e3-5c2fdadd856e",
   "metadata": {},
   "outputs": [],
   "source": []
  },
  {
   "cell_type": "code",
   "execution_count": 5,
   "id": "86321d7a-42f8-4360-9a87-36269a8b0349",
   "metadata": {},
   "outputs": [
    {
     "name": "stdout",
     "output_type": "stream",
     "text": [
      "8\n"
     ]
    }
   ],
   "source": [
    "print(len(parameter_combinations))"
   ]
  },
  {
   "cell_type": "code",
   "execution_count": 6,
   "id": "191607eb-8b4d-41f8-8c5b-0c62c8bbd505",
   "metadata": {},
   "outputs": [],
   "source": [
    "path= './stress_test2/'\n",
    "try:\n",
    "    os.makedirs(path)\n",
    "except FileExistsError:\n",
    "    pass"
   ]
  },
  {
   "cell_type": "code",
   "execution_count": 7,
   "id": "389f62bc-20da-4400-874e-288ae2951cb2",
   "metadata": {},
   "outputs": [
    {
     "name": "stderr",
     "output_type": "stream",
     "text": [
      "Processing combinations: 100%|███████████████████| 8/8 [16:26<00:00, 123.33s/it]\n"
     ]
    }
   ],
   "source": [
    "for index, (autocluster, confidence_ellipse, nsigma_options) in enumerate(tqdm(parameter_combinations, desc=\"Processing combinations\")):\n",
    "    # Determine which sample set to use\n",
    "    samples = samples1 if autocluster else samples2\n",
    "    # Call the function\n",
    "    fig = multivariate_corner(\n",
    "        samples=samples,\n",
    "        autocluster=autocluster,\n",
    "        confidence_ellipse=confidence_ellipse,\n",
    "        nsigma=nsigma_options,\n",
    "        fontsize=6,\n",
    "        labelsize=6,figsize=50,eps=2,inner_hspace=0.4)\n",
    "\n",
    "    # Save the figure with an indexed filename\n",
    "    fig.savefig(path + f\"test_plot_{index + 1}.png\",dpi=600)\n",
    "    plt.close(fig)"
   ]
  },
  {
   "cell_type": "code",
   "execution_count": null,
   "id": "544a5852-a3a0-47d1-ac31-63e496446e67",
   "metadata": {},
   "outputs": [],
   "source": []
  },
  {
   "cell_type": "code",
   "execution_count": null,
   "id": "79561dcd-faf4-4aa8-976c-200dabf542d7",
   "metadata": {},
   "outputs": [],
   "source": []
  },
  {
   "cell_type": "code",
   "execution_count": null,
   "id": "c423cc7a-1bd0-4744-a9f9-d3b35fcdc222",
   "metadata": {},
   "outputs": [],
   "source": []
  },
  {
   "cell_type": "code",
   "execution_count": null,
   "id": "204a85f5-f362-401b-963f-f10f8e5b7f59",
   "metadata": {},
   "outputs": [],
   "source": []
  }
 ],
 "metadata": {
  "kernelspec": {
   "display_name": "Python 3 (ipykernel)",
   "language": "python",
   "name": "python3"
  },
  "language_info": {
   "codemirror_mode": {
    "name": "ipython",
    "version": 3
   },
   "file_extension": ".py",
   "mimetype": "text/x-python",
   "name": "python",
   "nbconvert_exporter": "python",
   "pygments_lexer": "ipython3",
   "version": "3.10.12"
  }
 },
 "nbformat": 4,
 "nbformat_minor": 5
}
