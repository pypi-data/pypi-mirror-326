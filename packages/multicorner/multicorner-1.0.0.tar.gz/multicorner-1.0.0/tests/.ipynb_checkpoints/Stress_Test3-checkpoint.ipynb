{
 "cells": [
  {
   "cell_type": "code",
   "execution_count": 1,
   "id": "7a91c9e4-77f5-4792-a492-44b5ca1e99c7",
   "metadata": {},
   "outputs": [],
   "source": [
    "import os\n",
    "import itertools\n",
    "import numpy as np\n",
    "from sklearn.cluster import KMeans\n",
    "from multicorner import multivariate_corner \n",
    "\n",
    "from tqdm import tqdm\n",
    "import matplotlib\n",
    "import matplotlib.pyplot as plt\n",
    "matplotlib.use('agg')"
   ]
  },
  {
   "cell_type": "code",
   "execution_count": 2,
   "id": "30ef794c-eba5-4ba7-a6de-663210d88e9a",
   "metadata": {},
   "outputs": [],
   "source": [
    "samples = np.load('data.npz')['dataset3']"
   ]
  },
  {
   "cell_type": "code",
   "execution_count": null,
   "id": "86321d7a-42f8-4360-9a87-36269a8b0349",
   "metadata": {},
   "outputs": [],
   "source": []
  },
  {
   "cell_type": "code",
   "execution_count": 3,
   "id": "191607eb-8b4d-41f8-8c5b-0c62c8bbd505",
   "metadata": {},
   "outputs": [],
   "source": [
    "path= './stress_test3/'\n",
    "try:\n",
    "    os.makedirs(path)\n",
    "except FileExistsError:\n",
    "    pass"
   ]
  },
  {
   "cell_type": "code",
   "execution_count": null,
   "id": "389f62bc-20da-4400-874e-288ae2951cb2",
   "metadata": {},
   "outputs": [],
   "source": [
    "fig = multivariate_corner(\n",
    "    samples=samples,\n",
    "    autocluster=True,\n",
    "    confidence_ellipse=True,\n",
    "    nsigma=4,\n",
    "    ticksize=10,\n",
    "    figsize=35,eps=2,inner_hspace=0.4, inner_wspace=0.4)\n",
    "\n",
    "fig.savefig(path + \"plot1.png\", dpi=100,bbox_inches='tight')\n",
    "plt.close(fig)"
   ]
  },
  {
   "cell_type": "code",
   "execution_count": null,
   "id": "544a5852-a3a0-47d1-ac31-63e496446e67",
   "metadata": {},
   "outputs": [],
   "source": [
    "\n"
   ]
  },
  {
   "cell_type": "code",
   "execution_count": null,
   "id": "79561dcd-faf4-4aa8-976c-200dabf542d7",
   "metadata": {},
   "outputs": [],
   "source": []
  },
  {
   "cell_type": "code",
   "execution_count": null,
   "id": "c423cc7a-1bd0-4744-a9f9-d3b35fcdc222",
   "metadata": {},
   "outputs": [],
   "source": []
  },
  {
   "cell_type": "code",
   "execution_count": null,
   "id": "204a85f5-f362-401b-963f-f10f8e5b7f59",
   "metadata": {},
   "outputs": [],
   "source": []
  }
 ],
 "metadata": {
  "kernelspec": {
   "display_name": "Python 3 (ipykernel)",
   "language": "python",
   "name": "python3"
  },
  "language_info": {
   "codemirror_mode": {
    "name": "ipython",
    "version": 3
   },
   "file_extension": ".py",
   "mimetype": "text/x-python",
   "name": "python",
   "nbconvert_exporter": "python",
   "pygments_lexer": "ipython3",
   "version": "3.10.12"
  }
 },
 "nbformat": 4,
 "nbformat_minor": 5
}
